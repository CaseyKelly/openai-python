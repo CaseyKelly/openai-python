{
 "cells": [
  {
   "cell_type": "code",
   "execution_count": 81,
   "metadata": {},
   "outputs": [],
   "source": [
    "# %pip install openai"
   ]
  },
  {
   "cell_type": "code",
   "execution_count": 82,
   "metadata": {},
   "outputs": [],
   "source": [
    "import openai"
   ]
  },
  {
   "cell_type": "code",
   "execution_count": 83,
   "metadata": {},
   "outputs": [],
   "source": [
    "import os"
   ]
  },
  {
   "cell_type": "code",
   "execution_count": 84,
   "metadata": {},
   "outputs": [],
   "source": [
    "openai.api_key = os.getenv('OPENAI_API_KEY')"
   ]
  },
  {
   "cell_type": "code",
   "execution_count": 85,
   "metadata": {},
   "outputs": [],
   "source": [
    "response = openai.Completion.create(\n",
    "            model='text-davinci-003',\n",
    "            prompt='Write me a story about a slice of pizza eating a slice of pizza',\n",
    "            max_tokens=300)"
   ]
  },
  {
   "cell_type": "code",
   "execution_count": 86,
   "metadata": {},
   "outputs": [
    {
     "name": "stdout",
     "output_type": "stream",
     "text": [
      "\n",
      "\n",
      "Once upon a time there was a slice of pizza so delicious that it decided to eat itself! Yes, this slice of pizza was even more delicious than any other slice of the same flavor.\n",
      "\n",
      "The pizza slice was so full of joy that it sang out loud as it took its first bite, savoring the tastiness of cheese and sauce that melted in its mouth. It was like a surge of happiness that this pizza slice experienced as it chewed contentedly, its crunchy crust providing the perfect texture for its tasty topping.\n",
      "\n",
      "As the slice of pizza ate its way through each layer, it discovered new flavors that added to its delight. This was no ordinary slice of pizza, it was one of the greatest slices ever tasted!\n",
      "\n",
      "Eventually, it finished its meal, leaving nothing but crumbs behind. The thought of the delightful experience it had just had made the pizza smile. It felt satisfied and content, knowing that it had eaten its way to happiness!\n"
     ]
    }
   ],
   "source": [
    "print(response['choices'][0]['text'])"
   ]
  }
 ],
 "metadata": {
  "kernelspec": {
   "display_name": "Python 3",
   "language": "python",
   "name": "python3"
  },
  "language_info": {
   "codemirror_mode": {
    "name": "ipython",
    "version": 3
   },
   "file_extension": ".py",
   "mimetype": "text/x-python",
   "name": "python",
   "nbconvert_exporter": "python",
   "pygments_lexer": "ipython3",
   "version": "3.11.3"
  },
  "orig_nbformat": 4
 },
 "nbformat": 4,
 "nbformat_minor": 2
}
