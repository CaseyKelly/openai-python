{
 "cells": [
  {
   "cell_type": "code",
   "execution_count": 1,
   "metadata": {},
   "outputs": [],
   "source": [
    "import os\n",
    "import openai"
   ]
  },
  {
   "cell_type": "code",
   "execution_count": 2,
   "metadata": {},
   "outputs": [],
   "source": [
    "openai.api_key = os.getenv(\"OPENAI_API_KEY\")"
   ]
  },
  {
   "cell_type": "code",
   "execution_count": 3,
   "metadata": {},
   "outputs": [],
   "source": [
    "import pandas as pd"
   ]
  },
  {
   "cell_type": "code",
   "execution_count": 4,
   "metadata": {},
   "outputs": [],
   "source": [
    "df = pd.read_csv(\"sales_data_sample.csv\")"
   ]
  },
  {
   "cell_type": "code",
   "execution_count": 5,
   "metadata": {},
   "outputs": [],
   "source": [
    "import sqlalchemy"
   ]
  },
  {
   "cell_type": "code",
   "execution_count": 6,
   "metadata": {},
   "outputs": [],
   "source": [
    "from sqlalchemy import create_engine\n",
    "from sqlalchemy import text"
   ]
  },
  {
   "cell_type": "code",
   "execution_count": 7,
   "metadata": {},
   "outputs": [],
   "source": [
    "temp_db = create_engine('sqlite:///:memory:', echo=True)"
   ]
  },
  {
   "cell_type": "code",
   "execution_count": 8,
   "metadata": {},
   "outputs": [
    {
     "name": "stdout",
     "output_type": "stream",
     "text": [
      "2023-05-11 21:50:08,125 INFO sqlalchemy.engine.Engine BEGIN (implicit)\n",
      "2023-05-11 21:50:08,127 INFO sqlalchemy.engine.Engine PRAGMA main.table_info(\"Sales\")\n",
      "2023-05-11 21:50:08,127 INFO sqlalchemy.engine.Engine [raw sql] ()\n",
      "2023-05-11 21:50:08,128 INFO sqlalchemy.engine.Engine PRAGMA temp.table_info(\"Sales\")\n",
      "2023-05-11 21:50:08,128 INFO sqlalchemy.engine.Engine [raw sql] ()\n",
      "2023-05-11 21:50:08,129 INFO sqlalchemy.engine.Engine \n",
      "CREATE TABLE \"Sales\" (\n",
      "\t\"index\" BIGINT, \n",
      "\t\"ORDERNUMBER\" BIGINT, \n",
      "\t\"QUANTITYORDERED\" BIGINT, \n",
      "\t\"PRICEEACH\" FLOAT, \n",
      "\t\"SALES\" FLOAT, \n",
      "\t\"ORDERDATE\" TEXT, \n",
      "\t\"QTR_ID\" BIGINT, \n",
      "\t\"MONTH_ID\" BIGINT, \n",
      "\t\"YEAR_ID\" BIGINT, \n",
      "\t\"PRODUCTLINE\" TEXT, \n",
      "\t\"PHONE\" TEXT, \n",
      "\t\"ADDRESSLINE1\" TEXT, \n",
      "\t\"CITY\" TEXT, \n",
      "\t\"STATE\" TEXT, \n",
      "\t\"POSTALCODE\" TEXT, \n",
      "\t\"COUNTRY\" TEXT, \n",
      "\t\"CONTACTLASTNAME\" TEXT, \n",
      "\t\"CONTACTFIRSTNAME\" TEXT\n",
      ")\n",
      "\n",
      "\n",
      "2023-05-11 21:50:08,129 INFO sqlalchemy.engine.Engine [no key 0.00029s] ()\n",
      "2023-05-11 21:50:08,130 INFO sqlalchemy.engine.Engine CREATE INDEX \"ix_Sales_index\" ON \"Sales\" (\"index\")\n",
      "2023-05-11 21:50:08,130 INFO sqlalchemy.engine.Engine [no key 0.00022s] ()\n",
      "2023-05-11 21:50:08,147 INFO sqlalchemy.engine.Engine INSERT INTO \"Sales\" (\"index\", \"ORDERNUMBER\", \"QUANTITYORDERED\", \"PRICEEACH\", \"SALES\", \"ORDERDATE\", \"QTR_ID\", \"MONTH_ID\", \"YEAR_ID\", \"PRODUCTLINE\", \"PHONE\", \"ADDRESSLINE1\", \"CITY\", \"STATE\", \"POSTALCODE\", \"COUNTRY\", \"CONTACTLASTNAME\", \"CONTACTFIRSTNAME\") VALUES (?, ?, ?, ?, ?, ?, ?, ?, ?, ?, ?, ?, ?, ?, ?, ?, ?, ?)\n",
      "2023-05-11 21:50:08,147 INFO sqlalchemy.engine.Engine [generated in 0.01140s] [(0, 10107, 30, 95.7, 2871.0, '2/24/2003 0:00', 1, 2, 2003, 'Motorcycles', '2125557818', '897 Long Airport Avenue', 'NYC', 'NY', '10022', 'USA', 'Yu', 'Kwai'), (1, 10121, 34, 81.35, 2765.9, '5/7/2003 0:00', 2, 5, 2003, 'Motorcycles', '26.47.1555', \"59 rue de l'Abbaye\", 'Reims', None, '51100', 'France', 'Henriot', 'Paul'), (2, 10134, 41, 94.74, 3884.34, '7/1/2003 0:00', 3, 7, 2003, 'Motorcycles', '+33 1 46 62 7555', '27 rue du Colonel Pierre Avia', 'Paris', None, '75508', 'France', 'Da Cunha', 'Daniel'), (3, 10145, 45, 83.26, 3746.7, '8/25/2003 0:00', 3, 8, 2003, 'Motorcycles', '6265557265', '78934 Hillside Dr.', 'Pasadena', 'CA', '90003', 'USA', 'Young', 'Julie'), (4, 10159, 49, 100.0, 5205.27, '10/10/2003 0:00', 4, 10, 2003, 'Motorcycles', '6505551386', '7734 Strong St.', 'San Francisco', 'CA', None, 'USA', 'Brown', 'Julie'), (5, 10168, 36, 96.66, 3479.76, '10/28/2003 0:00', 4, 10, 2003, 'Motorcycles', '6505556809', '9408 Furth Circle', 'Burlingame', 'CA', '94217', 'USA', 'Hirano', 'Juri'), (6, 10180, 29, 86.13, 2497.77, '11/11/2003 0:00', 4, 11, 2003, 'Motorcycles', '20.16.1555', '184, chausse de Tournai', 'Lille', None, '59000', 'France', 'Rance', 'Martine'), (7, 10188, 48, 100.0, 5512.32, '11/18/2003 0:00', 4, 11, 2003, 'Motorcycles', '+47 2267 3215', 'Drammen 121, PR 744 Sentrum', 'Bergen', None, 'N 5804', 'Norway', 'Oeztan', 'Veysel')  ... displaying 10 of 2823 total bound parameter sets ...  (2821, 10397, 34, 62.24, 2116.16, '3/28/2005 0:00', 1, 3, 2005, 'Ships', '61.77.6555', '1 rue Alsace-Lorraine', 'Toulouse', None, '31000', 'France', 'Roulet', 'Annette'), (2822, 10414, 47, 65.52, 3079.44, '5/6/2005 0:00', 2, 5, 2005, 'Ships', '6175559555', '8616 Spinnaker Dr.', 'Boston', 'MA', '51003', 'USA', 'Yoshido', 'Juri')]\n",
      "2023-05-11 21:50:08,153 INFO sqlalchemy.engine.Engine SELECT name FROM sqlite_master WHERE type='table' AND name NOT LIKE 'sqlite~_%' ESCAPE '~' ORDER BY name\n",
      "2023-05-11 21:50:08,153 INFO sqlalchemy.engine.Engine [raw sql] ()\n",
      "2023-05-11 21:50:08,153 INFO sqlalchemy.engine.Engine COMMIT\n"
     ]
    }
   ],
   "source": [
    "data = df.to_sql(name='Sales', con=temp_db)"
   ]
  },
  {
   "cell_type": "code",
   "execution_count": 9,
   "metadata": {},
   "outputs": [
    {
     "name": "stdout",
     "output_type": "stream",
     "text": [
      "2023-05-11 21:50:08,169 INFO sqlalchemy.engine.Engine BEGIN (implicit)\n",
      "2023-05-11 21:50:08,170 INFO sqlalchemy.engine.Engine SELECT SUM(SALES) FROM Sales\n",
      "2023-05-11 21:50:08,170 INFO sqlalchemy.engine.Engine [generated in 0.00111s] ()\n",
      "2023-05-11 21:50:08,171 INFO sqlalchemy.engine.Engine ROLLBACK\n"
     ]
    }
   ],
   "source": [
    "with temp_db.connect() as conn:\n",
    "    result = conn.execute(text(\"SELECT SUM(SALES) FROM Sales\"))"
   ]
  },
  {
   "cell_type": "code",
   "execution_count": 10,
   "metadata": {},
   "outputs": [
    {
     "data": {
      "text/plain": [
       "[(10032628.85000001,)]"
      ]
     },
     "execution_count": 10,
     "metadata": {},
     "output_type": "execute_result"
    }
   ],
   "source": [
    "result.all()"
   ]
  },
  {
   "cell_type": "code",
   "execution_count": 11,
   "metadata": {},
   "outputs": [],
   "source": [
    "def create_table_definition(df):\n",
    "    prompt = \"\"\"### sqlite SQL table, with its properties:\n",
    "    #\n",
    "    # Sales({})\n",
    "    #\n",
    "    \"\"\".format(\",\".join(str(col) for col in df.columns))\n",
    "\n",
    "    return prompt"
   ]
  },
  {
   "cell_type": "code",
   "execution_count": 12,
   "metadata": {},
   "outputs": [
    {
     "name": "stdout",
     "output_type": "stream",
     "text": [
      "### sqlite SQL table, with its properties:\n",
      "    #\n",
      "    # Sales(ORDERNUMBER,QUANTITYORDERED,PRICEEACH,SALES,ORDERDATE,QTR_ID,MONTH_ID,YEAR_ID,PRODUCTLINE,PHONE,ADDRESSLINE1,CITY,STATE,POSTALCODE,COUNTRY,CONTACTLASTNAME,CONTACTFIRSTNAME)\n",
      "    #\n",
      "    \n"
     ]
    }
   ],
   "source": [
    "print(create_table_definition(df))"
   ]
  },
  {
   "cell_type": "code",
   "execution_count": 13,
   "metadata": {},
   "outputs": [],
   "source": [
    "def prompt_input():\n",
    "    nlp_text = input(\"Enter the info you want: \")\n",
    "    return nlp_text"
   ]
  },
  {
   "cell_type": "code",
   "execution_count": 16,
   "metadata": {},
   "outputs": [],
   "source": [
    "def combine_prompts(df, query_prompt):\n",
    "    definition = create_table_definition(df)\n",
    "    query_init_string = f\"### A query to answer: {query_prompt}\\nSELECT\"\n",
    "    return definition + query_init_string"
   ]
  },
  {
   "cell_type": "code",
   "execution_count": 17,
   "metadata": {},
   "outputs": [
    {
     "data": {
      "text/plain": [
       "'### sqlite SQL table, with its properties:\\n    #\\n    # Sales(ORDERNUMBER,QUANTITYORDERED,PRICEEACH,SALES,ORDERDATE,QTR_ID,MONTH_ID,YEAR_ID,PRODUCTLINE,PHONE,ADDRESSLINE1,CITY,STATE,POSTALCODE,COUNTRY,CONTACTLASTNAME,CONTACTFIRSTNAME)\\n    #\\n    ### A Query to answer: total sales per quarter\\nSELECT'"
      ]
     },
     "execution_count": 17,
     "metadata": {},
     "output_type": "execute_result"
    }
   ],
   "source": [
    "nlp_text = prompt_input()\n",
    "combine_prompts(df, nlp_text)"
   ]
  }
 ],
 "metadata": {
  "kernelspec": {
   "display_name": "Python 3",
   "language": "python",
   "name": "python3"
  },
  "language_info": {
   "codemirror_mode": {
    "name": "ipython",
    "version": 3
   },
   "file_extension": ".py",
   "mimetype": "text/x-python",
   "name": "python",
   "nbconvert_exporter": "python",
   "pygments_lexer": "ipython3",
   "version": "3.11.3"
  },
  "orig_nbformat": 4
 },
 "nbformat": 4,
 "nbformat_minor": 2
}
